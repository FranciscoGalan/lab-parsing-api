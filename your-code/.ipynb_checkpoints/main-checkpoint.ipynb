{
 "cells": [
  {
   "cell_type": "markdown",
   "metadata": {},
   "source": [
    "# Challenge: Promotions\n",
    "\n",
    "In this challenge, you'll develop codes to parse and analyze data returned from another API on Zalando such as [Promos homme (Men's Promotions)\n",
    "](https://www.zalando.fr/promo-homme/) or [Promos femme (Women's Promotions)](https://www.zalando.fr/promo-femme/). The workflow is almost the same as in the guided lesson but you'll work with different data."
   ]
  },
  {
   "cell_type": "markdown",
   "metadata": {},
   "source": [
    "## Obtaining the link\n",
    "\n",
    "Wrote your codes in the cell below to obtain the data from the API endpoint you choose. A recap of the workflow:\n",
    "\n",
    "1. Examine the webpages and choose one that you want to work with.\n",
    "\n",
    "1. Use Google Chrome's DevTools to inspect the XHR network requests. Find out the API endpoint that serves data to the webpage.\n",
    "\n",
    "1. Test the API endpoint in the browser to verify its data.\n",
    "\n",
    "1. Change the page number offset of the API URL to test if it's working."
   ]
  },
  {
   "cell_type": "code",
   "execution_count": 11,
   "metadata": {},
   "outputs": [],
   "source": [
    "import json\n",
    "import requests\n",
    "import pandas as pd\n",
    "from urllib.request import urlopen\n",
    "from pandas.io.json import json_normalize\n",
    "\n",
    "# Get html content\n",
    "url = 'https://www.zalando.fr/api/catalog/articles?categories=promo-homme&limit=84&offset=84'\n",
    "response = urlopen(url).read().decode('utf-8')"
   ]
  },
  {
   "cell_type": "code",
   "execution_count": 12,
   "metadata": {},
   "outputs": [],
   "source": [
    "# Parsing json file\n",
    "responseJson = json.loads(response)"
   ]
  },
  {
   "cell_type": "markdown",
   "metadata": {},
   "source": [
    "## Reading the data\n",
    "\n",
    "In the next cell, use Python to obtain data from the API endpoint you chose in the previous step. Workflow:\n",
    "\n",
    "1. Import libraries.\n",
    "\n",
    "1. Define the initial API endpoint URL.\n",
    "\n",
    "1. Make request to obtain data of the 1st page. Flatten the data and store it in an empty object variable.\n",
    "\n",
    "1. Find out the total page count in the 1st page data.\n",
    "\n",
    "1. Use a FOR loop to make requests for the additional pages from 2 to page count. Append the data of each additional page to the flatterned data object.\n",
    "\n",
    "1. Print and review the data you obtained."
   ]
  },
  {
   "cell_type": "code",
   "execution_count": 13,
   "metadata": {},
   "outputs": [],
   "source": [
    "# Define the initial API endpoint URL.\n",
    "k = 84\n",
    "url = f'https://www.zalando.fr/api/catalog/articles?categories=promo-homme&limit=84&offset={k}'"
   ]
  },
  {
   "cell_type": "code",
   "execution_count": 17,
   "metadata": {},
   "outputs": [],
   "source": [
    "# Make request to obtain data of the 1st page.\n",
    "response = urlopen(url).read().decode('utf-8')\n",
    "results = json.loads(response)"
   ]
  },
  {
   "cell_type": "code",
   "execution_count": 29,
   "metadata": {
    "scrolled": true
   },
   "outputs": [
    {
     "data": {
      "text/plain": [
       "Index(['total_count', 'sort', 'articles', 'query_path', 'previous_page_path',\n",
       "       'next_page_path', 'page_gender', 'premium', 'appliedSort', 'filters',\n",
       "       'total_article_count', 'single_assortment_entrypoints',\n",
       "       'multi_assortment_entrypoints', 'filter_groups', 'plusStatus',\n",
       "       'categoryTree', 'sortingKeys', 'breadcrumbs', 'articlesToShow',\n",
       "       'octopusTests', 'locale', 'isLoggedIn', 'notification',\n",
       "       'ssrArticleCount', 'feedbackId', 'followBrandsBannerEnabled',\n",
       "       'prideEnabled', 'lazyArticleImages', 'hideSearchTerm', 'teaser',\n",
       "       'inCatalogTeaser', 'upperInCatTeaser', 'inGridTeaser', 'wishlist',\n",
       "       'pills', 'sizeOnboardingDialog', 'pagination.page_count',\n",
       "       'pagination.current_page', 'pagination.per_page',\n",
       "       'query_params.categories', 'query_params.sort', 'query_params.offset',\n",
       "       'query_params.limit', 'querySemantics.positive_filters',\n",
       "       'querySemantics.negative_filters', 'querySemantics.reset_query_url',\n",
       "       'querySemantics.reset_url', 'querySemantics.app_url',\n",
       "       'resetFilters.categories', 'selectedFilters.categories',\n",
       "       'variants.premiumCatalog', 'variants.myBrandsFilter',\n",
       "       'variants.hideCategories', 'variants.mobileLightFilters',\n",
       "       'variants.truncatedCount', 'variants.blackFridayGradientEnabled',\n",
       "       'variants.cyberweekGradientEnabled', 'variants.topTeaserPlaceholder',\n",
       "       'variants.salesBannerCountdown', 'variants.lazyArticleImages',\n",
       "       'variants.useImg01', 'contentPositions.in-cat-teaser',\n",
       "       'contentPositions.upper-in-cat-teaser',\n",
       "       'contentPositions.entry-point-teasers', 'contentPositions.size-dialog',\n",
       "       'contentPositions.outfits', 'contentPositions.outfits-mobile',\n",
       "       'contentPositions.style-profile-follow-brands-banner',\n",
       "       'contentPositions.style-profile-follow-brands-banner-mobile',\n",
       "       'contentPositions.ingrid-teaser',\n",
       "       'contentPositions.ingrid-mobile-teaser',\n",
       "       'iconPaths.filters.standard_delivery_filter',\n",
       "       'iconPaths.filters.fast_delivery_filter',\n",
       "       'iconPaths.filters.zalando_plus',\n",
       "       'iconPaths.mobileFilters.standard_delivery_filter',\n",
       "       'iconPaths.mobileFilters.fast_delivery_filter',\n",
       "       'iconPaths.mobileFilters.zalando_plus',\n",
       "       'iconPaths.flags.slow_delivery_flag',\n",
       "       'iconPaths.flags.fast_delivery_flag',\n",
       "       'iconPaths.flags.plus_delivery_flag', 'iconPaths.flags.zalando_plus'],\n",
       "      dtype='object')"
      ]
     },
     "execution_count": 29,
     "metadata": {},
     "output_type": "execute_result"
    }
   ],
   "source": [
    "# Flatten the data and store it in an empty object variable.\n",
    "flattened_data = pd.json_normalize(results)\n",
    "flattened_data.columns"
   ]
  },
  {
   "cell_type": "code",
   "execution_count": 35,
   "metadata": {},
   "outputs": [
    {
     "data": {
      "text/plain": [
       "892"
      ]
     },
     "execution_count": 35,
     "metadata": {},
     "output_type": "execute_result"
    }
   ],
   "source": [
    "# Find out the total page count in the 1st page data.\n",
    "page_count = int(flattened_data['pagination.page_count'])\n",
    "page_count"
   ]
  },
  {
   "cell_type": "code",
   "execution_count": null,
   "metadata": {},
   "outputs": [],
   "source": [
    "#Use a FOR loop to make requests for the additional pages from 2 to page count. \n",
    "#Append the data of each additional page to the flatterned data object.\n",
    "\n",
    "df = pd.DataFrame()\n",
    "\n",
    "for i in range(page_count):\n",
    "    k = 84 * i\n",
    "    url = f'https://www.zalando.fr/api/catalog/articles?categories=promo-homme&limit=84&offset={k}'\n",
    "    response = urlopen(url).read().decode('utf-8')\n",
    "    results = json.loads(response)\n",
    "    flattened_data = pd.json_normalize(results)\n",
    "    flattened_data1 = pd.json_normalize(flattened_data.articles[0])\n",
    "    flattened_data1 = flattened_data1.set_index('sku')\n",
    "    df = df.append(flattened_data1)"
   ]
  },
  {
   "cell_type": "code",
   "execution_count": null,
   "metadata": {},
   "outputs": [],
   "source": [
    "# Print and review the data you obtained.\n",
    "df"
   ]
  },
  {
   "cell_type": "markdown",
   "metadata": {},
   "source": [
    "## Bonus\n",
    "\n",
    "Extract the following information from the data:\n",
    "\n",
    "* The trending brand.\n",
    "\n",
    "* The product(s) with the highest discount.\n",
    "\n",
    "* The sum of discounts of all goods (sum_discounted_prices divided by sum_original_prices)."
   ]
  },
  {
   "cell_type": "code",
   "execution_count": null,
   "metadata": {},
   "outputs": [],
   "source": [
    "# your code here"
   ]
  }
 ],
 "metadata": {
  "kernelspec": {
   "display_name": "Python 3",
   "language": "python",
   "name": "python3"
  },
  "language_info": {
   "codemirror_mode": {
    "name": "ipython",
    "version": 3
   },
   "file_extension": ".py",
   "mimetype": "text/x-python",
   "name": "python",
   "nbconvert_exporter": "python",
   "pygments_lexer": "ipython3",
   "version": "3.8.3"
  }
 },
 "nbformat": 4,
 "nbformat_minor": 2
}
